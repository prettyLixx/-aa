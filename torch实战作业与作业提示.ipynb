{
 "cells": [
  {
   "cell_type": "markdown",
   "metadata": {},
   "source": [
    "# 作业与作业提示"
   ]
  },
  {
   "cell_type": "markdown",
   "metadata": {},
   "source": [
    "![](WechatIMG55.jpg)"
   ]
  },
  {
   "cell_type": "markdown",
   "metadata": {},
   "source": [
    "![](计算图.png)"
   ]
  },
  {
   "cell_type": "markdown",
   "metadata": {},
   "source": [
    "作业内容：\n",
    "1. 绘制ppt作业中二元函数类似于上图的计算图；\n",
    "2. 使用torch算出计算图中所有节点分别对x1, x2的导数（类似于下图，但是下图仅给出了所有圆圈节点对x1的导数）；"
   ]
  },
  {
   "cell_type": "markdown",
   "metadata": {},
   "source": [
    "![](ppt.png)"
   ]
  },
  {
   "cell_type": "markdown",
   "metadata": {},
   "source": [
    "$$ \n",
    "y = f(x_1,x_2)=ln(x_1)+x_1x_2-sin(x_2)\n",
    "$$"
   ]
  },
  {
   "cell_type": "markdown",
   "metadata": {},
   "source": [
    "\\begin{aligned} \n",
    "&\\text{复合函数表示如下：} \\\\\n",
    "&v_{-1} = x_1 \\\\\n",
    "&v_0 = x_2 \\\\\n",
    "&v_1 = ln(v_{-1}) \\\\\n",
    "&v_2 = v_{-1}v_0 \\\\\n",
    "&v_3 = sin(v_0) \\\\\n",
    "&v_4 = v_1+v_2 \\\\\n",
    "&v_5 = v_4-v_3\n",
    "\\end{aligned}"
   ]
  },
  {
   "cell_type": "code",
   "execution_count": 11,
   "metadata": {
    "tags": []
   },
   "outputs": [],
   "source": [
    "import torch\n",
    "def sin(x):\n",
    "    return torch.sin(x)"
   ]
  },
  {
   "cell_type": "code",
   "execution_count": 12,
   "metadata": {
    "tags": []
   },
   "outputs": [],
   "source": [
    "x1 = torch.tensor(2.0, requires_grad=True)\n",
    "x2 = torch.tensor(5.0, requires_grad=True)"
   ]
  },
  {
   "cell_type": "code",
   "execution_count": 13,
   "metadata": {
    "tags": []
   },
   "outputs": [],
   "source": [
    "v_minus_1 = x1\n",
    "v0 = x2\n",
    "v1 = torch.log(v_minus_1)\n",
    "v2 = v_minus_1*v0\n",
    "v3 = sin(v0)\n",
    "v4 = v1 + v2\n",
    "v5 = v4 - v3"
   ]
  },
  {
   "cell_type": "markdown",
   "metadata": {
    "execution": {
     "iopub.execute_input": "2024-11-19T06:51:20.388156Z",
     "iopub.status.busy": "2024-11-19T06:51:20.387498Z",
     "iopub.status.idle": "2024-11-19T06:51:20.397574Z",
     "shell.execute_reply": "2024-11-19T06:51:20.395587Z",
     "shell.execute_reply.started": "2024-11-19T06:51:20.388109Z"
    }
   },
   "source": [
    "$$\n",
    "\\frac{dv1}{dx1}=\\frac{1}{v_{-1}}\\frac{dv_{-1}}{dx_1}\\\\\n",
    "\\frac{dv_3}{dx_1}=cosv_0\\frac{dv_0}{dx_1}=cosv_0*0\n",
    "$$"
   ]
  },
  {
   "cell_type": "code",
   "execution_count": 14,
   "metadata": {},
   "outputs": [
    {
     "name": "stdout",
     "output_type": "stream",
     "text": [
      "节点v_minus_1对x1的导数 tensor(1.)\n",
      "节点v_minus_1对x2的导数 None\n",
      "节点v0对x1的导数 tensor(0.)\n",
      "节点v0对x2的导数 tensor(1.)\n",
      "节点v1对x1的导数 tensor(0.5000)\n",
      "节点v1对x2的导数 tensor(0.)\n",
      "节点v2对x1的导数 tensor(5.)\n",
      "节点v2对x2的导数 tensor(2.)\n",
      "节点v3对x1的导数 tensor(0.)\n",
      "节点v3对x2的导数 tensor(0.2837)\n",
      "节点v4对x1的导数 tensor(5.5000)\n",
      "节点v4对x2的导数 tensor(2.)\n",
      "节点v5对x1的导数 tensor(5.5000)\n",
      "节点v5对x2的导数 tensor(1.7163)\n"
     ]
    }
   ],
   "source": [
    "node_dict = {\"v_minus_1\": v_minus_1, \"v0\": v0, \"v1\": v1, \"v2\": v2, \"v3\": v3, \"v4\": v4, \"v5\": v5}\n",
    "var_dict = {\"x1\": x1, \"x2\": x2}\n",
    "for k in node_dict:\n",
    "    for var_name in var_dict:\n",
    "        if var_dict[var_name].grad is not None:\n",
    "            var_dict[var_name].grad.zero_()\n",
    "        node_dict[k].backward(retain_graph=True)\n",
    "        print(f\"节点{k}对{var_name}的导数\", var_dict[var_name].grad)"
   ]
  },
  {
   "cell_type": "markdown",
   "metadata": {
    "jp-MarkdownHeadingCollapsed": true,
    "tags": []
   },
   "source": [
    "# 作业提示: 计算如下二元函数在“计算图”中的所有节点分别对x1=1、x2=0的偏导数"
   ]
  },
  {
   "cell_type": "markdown",
   "metadata": {},
   "source": [
    "$$ \n",
    "\\begin{aligned} \n",
    "&z = x_1^2+x_2\n",
    "\\end{aligned}\n",
    "$$"
   ]
  },
  {
   "cell_type": "markdown",
   "metadata": {},
   "source": [
    "\\begin{aligned} \n",
    "&\\text{复合函数表示如下：} \\\\\n",
    "&v_0 = x_1 \\\\\n",
    "&v_1 = x_2 \\\\\n",
    "&v_2 = v_0^2 \\\\\n",
    "&z = v_2 + v_1 \n",
    "\\end{aligned}"
   ]
  },
  {
   "cell_type": "code",
   "execution_count": 15,
   "metadata": {
    "execution": {
     "iopub.execute_input": "2024-11-12T12:51:14.145553Z",
     "iopub.status.busy": "2024-11-12T12:51:14.144935Z",
     "iopub.status.idle": "2024-11-12T12:51:16.198132Z",
     "shell.execute_reply": "2024-11-12T12:51:16.195733Z",
     "shell.execute_reply.started": "2024-11-12T12:51:14.145518Z"
    }
   },
   "outputs": [],
   "source": [
    "import torch"
   ]
  },
  {
   "cell_type": "code",
   "execution_count": 16,
   "metadata": {
    "execution": {
     "iopub.execute_input": "2024-11-12T12:51:16.200500Z",
     "iopub.status.busy": "2024-11-12T12:51:16.199852Z",
     "iopub.status.idle": "2024-11-12T12:51:16.206974Z",
     "shell.execute_reply": "2024-11-12T12:51:16.205104Z",
     "shell.execute_reply.started": "2024-11-12T12:51:16.200461Z"
    }
   },
   "outputs": [],
   "source": [
    "def x_square(x):\n",
    "    return x**2"
   ]
  },
  {
   "cell_type": "code",
   "execution_count": 17,
   "metadata": {
    "execution": {
     "iopub.execute_input": "2024-11-12T12:51:16.212548Z",
     "iopub.status.busy": "2024-11-12T12:51:16.212005Z",
     "iopub.status.idle": "2024-11-12T12:51:16.220878Z",
     "shell.execute_reply": "2024-11-12T12:51:16.218252Z",
     "shell.execute_reply.started": "2024-11-12T12:51:16.212500Z"
    }
   },
   "outputs": [],
   "source": [
    "x1 = torch.tensor(1.0, requires_grad=True)\n",
    "x2 = torch.tensor(0.0, requires_grad=True)"
   ]
  },
  {
   "cell_type": "code",
   "execution_count": 18,
   "metadata": {
    "execution": {
     "iopub.execute_input": "2024-11-12T12:51:16.223186Z",
     "iopub.status.busy": "2024-11-12T12:51:16.222640Z",
     "iopub.status.idle": "2024-11-12T12:51:16.234331Z",
     "shell.execute_reply": "2024-11-12T12:51:16.230989Z",
     "shell.execute_reply.started": "2024-11-12T12:51:16.223115Z"
    }
   },
   "outputs": [],
   "source": [
    "v0 = x1\n",
    "v1 = x2\n",
    "v2 = x_square(v0)\n",
    "z = v2+v1"
   ]
  },
  {
   "cell_type": "code",
   "execution_count": 19,
   "metadata": {
    "execution": {
     "iopub.execute_input": "2024-11-12T12:51:16.236614Z",
     "iopub.status.busy": "2024-11-12T12:51:16.236226Z",
     "iopub.status.idle": "2024-11-12T12:51:16.246140Z",
     "shell.execute_reply": "2024-11-12T12:51:16.242329Z",
     "shell.execute_reply.started": "2024-11-12T12:51:16.236583Z"
    }
   },
   "outputs": [],
   "source": [
    "node_dict = {\"v0\": v0, \"v1\": v1, \"v2\": v2, \"z\": z}\n",
    "var_dict = {\"x1\": x1, \"x2\": x2}"
   ]
  },
  {
   "cell_type": "code",
   "execution_count": 20,
   "metadata": {
    "execution": {
     "iopub.execute_input": "2024-11-12T12:51:16.249986Z",
     "iopub.status.busy": "2024-11-12T12:51:16.249522Z",
     "iopub.status.idle": "2024-11-12T12:51:16.292294Z",
     "shell.execute_reply": "2024-11-12T12:51:16.290974Z",
     "shell.execute_reply.started": "2024-11-12T12:51:16.249952Z"
    }
   },
   "outputs": [
    {
     "name": "stdout",
     "output_type": "stream",
     "text": [
      "节点v0对x1导数:  tensor(1.)\n",
      "节点v0对x2导数:  tensor(0.)\n",
      "节点v1对x1导数:  tensor(0.)\n",
      "节点v1对x2导数:  tensor(1.)\n",
      "节点v2对x1导数:  tensor(2.)\n",
      "节点v2对x2导数:  tensor(0.)\n",
      "节点z对x1导数:  tensor(2.)\n",
      "节点z对x2导数:  tensor(1.)\n"
     ]
    }
   ],
   "source": [
    "for node_name in node_dict:\n",
    "    for var_name in var_dict:\n",
    "        node = node_dict[node_name]\n",
    "        var = var_dict[var_name]\n",
    "        \n",
    "        if var.grad is not None:\n",
    "            var.grad.zero_()\n",
    "        else:\n",
    "            var.grad = torch.tensor(0.0)\n",
    "        node.backward(retain_graph=True)\n",
    "        print(f\"节点{node_name}对{var_name}导数: \", var.grad)"
   ]
  },
  {
   "cell_type": "code",
   "execution_count": null,
   "metadata": {},
   "outputs": [],
   "source": []
  },
  {
   "cell_type": "code",
   "execution_count": null,
   "metadata": {},
   "outputs": [],
   "source": []
  },
  {
   "cell_type": "code",
   "execution_count": null,
   "metadata": {},
   "outputs": [],
   "source": []
  },
  {
   "cell_type": "code",
   "execution_count": null,
   "metadata": {},
   "outputs": [],
   "source": []
  },
  {
   "cell_type": "code",
   "execution_count": null,
   "metadata": {},
   "outputs": [],
   "source": []
  },
  {
   "cell_type": "code",
   "execution_count": null,
   "metadata": {},
   "outputs": [],
   "source": []
  },
  {
   "cell_type": "code",
   "execution_count": null,
   "metadata": {},
   "outputs": [],
   "source": []
  },
  {
   "cell_type": "code",
   "execution_count": null,
   "metadata": {},
   "outputs": [],
   "source": []
  },
  {
   "cell_type": "code",
   "execution_count": null,
   "metadata": {},
   "outputs": [],
   "source": []
  },
  {
   "cell_type": "code",
   "execution_count": null,
   "metadata": {},
   "outputs": [],
   "source": []
  },
  {
   "cell_type": "code",
   "execution_count": null,
   "metadata": {},
   "outputs": [],
   "source": []
  },
  {
   "cell_type": "code",
   "execution_count": null,
   "metadata": {},
   "outputs": [],
   "source": []
  },
  {
   "cell_type": "code",
   "execution_count": null,
   "metadata": {},
   "outputs": [],
   "source": []
  },
  {
   "cell_type": "code",
   "execution_count": null,
   "metadata": {},
   "outputs": [],
   "source": []
  }
 ],
 "metadata": {
  "kernelspec": {
   "display_name": "Python 3",
   "language": "python",
   "name": "python3"
  },
  "language_info": {
   "codemirror_mode": {
    "name": "ipython",
    "version": 3
   },
   "file_extension": ".py",
   "mimetype": "text/x-python",
   "name": "python",
   "nbconvert_exporter": "python",
   "pygments_lexer": "ipython3",
   "version": "3.7.0"
  }
 },
 "nbformat": 4,
 "nbformat_minor": 5
}
